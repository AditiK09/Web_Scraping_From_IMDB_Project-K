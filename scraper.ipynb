{
 "cells": [
  {
   "cell_type": "code",
   "execution_count": null,
   "id": "78d5e579",
   "metadata": {},
   "outputs": [],
   "source": [
    "#importing all the necessary packages\n",
    "\n",
    "from selenium import webdriver \n",
    "from selenium.webdriver.chrome.service import Service\n",
    "from selenium.webdriver.common.by import By\n",
    "import time\n",
    "import csv"
   ]
  },
  {
   "cell_type": "code",
   "execution_count": null,
   "id": "1f1c7b95",
   "metadata": {},
   "outputs": [],
   "source": [
    "# setting the driver\n",
    "#driver is like a remote control to the web browser. It lets our code control the browser. \n",
    "\n",
    "driver_path = \"C:\\\\Users\\\\desktop\\\\Downloads\\\\chromedriver-win64\\\\chromedriver-win64\\\\chromedriver.exe\"\n",
    "# driver is a Python variable created/defined from webdriver to control a browser.\n",
    "\n",
    "service = Service(driver_path)\n",
    "driver = webdriver.Chrome(service = service)    #webdriver contains the tools to control browsers\n",
    "driver.get(\"https://www.imdb.com/chart/top\")\n",
    "time.sleep(3)"
   ]
  },
  {
   "cell_type": "code",
   "execution_count": 3,
   "id": "08fa779b",
   "metadata": {},
   "outputs": [],
   "source": [
    "# get all the movies through their class_name\n",
    "movies = driver.find_elements(By.CSS_SELECTOR, \"li.ipc-metadata-list-summary-item\")    \n",
    "\n",
    "# made a dictionary first so that all the info about a particular movie is aligned perfectly. \n",
    "movie_data = []\n",
    "\n",
    "# enumerate returns (index, value) pair \n",
    "for idx, movie in enumerate(movies, start=1):\n",
    "    try:\n",
    "        name = movie.find_element(By.CLASS_NAME, \"ipc-title__text\").text\n",
    "        meta = movie.find_elements(By.CLASS_NAME, \"cli-title-metadata-item\")\n",
    "        year = meta[0].text if len(meta) > 0 else \"N/A\"\n",
    "        duration = meta[1].text if len(meta) > 1 else \"N/A\"\n",
    "        category = meta[2].text if len(meta) > 2 else \"N/A\"\n",
    "        \n",
    "        rating = movie.find_element(By.CLASS_NAME, \"ipc-rating-star--rating\").text\n",
    "        votes = movie.find_element(By.CLASS_NAME, \"ipc-rating-star--voteCount\").text\n",
    "\n",
    "        movie_dict = {\n",
    "            \"Name\": name,\n",
    "            \"Year\": year,\n",
    "            \"Duration\": duration,\n",
    "            \"Category\": category,\n",
    "            \"Rating\": rating,\n",
    "            \"Votes\": votes\n",
    "        }\n",
    "\n",
    "        movie_data.append(movie_dict)\n",
    "\n",
    "    except Exception as e:\n",
    "        print(f\"{idx}. Error extracting data: {e}\")\n",
    "\n",
    "driver.quit()\n",
    "# It's used to close the entire browser window and end the session completely. It uses memory and system resources"
   ]
  },
  {
   "cell_type": "code",
   "execution_count": 4,
   "id": "01e97e37",
   "metadata": {},
   "outputs": [
    {
     "name": "stdout",
     "output_type": "stream",
     "text": [
      "✅ CSV created as 'top_50_movies.csv'\n"
     ]
    }
   ],
   "source": [
    "# Save to CSV\n",
    "with open(\"top_50_movies.csv\", mode=\"w\", newline=\"\", encoding=\"utf-8\") as f:\n",
    "    writer = csv.DictWriter(f, fieldnames=[\"Name\", \"Year\", \"Duration\", \"Category\", \"Rating\", \"Votes\"])\n",
    "    writer.writeheader()\n",
    "    writer.writerows(movie_data)\n",
    "\n",
    "print(\"✅ CSV created as 'top_50_movies.csv'\") "
   ]
  },
  {
   "cell_type": "code",
   "execution_count": null,
   "id": "f8827da7",
   "metadata": {},
   "outputs": [],
   "source": []
  }
 ],
 "metadata": {
  "kernelspec": {
   "display_name": "Python 3",
   "language": "python",
   "name": "python3"
  },
  "language_info": {
   "codemirror_mode": {
    "name": "ipython",
    "version": 3
   },
   "file_extension": ".py",
   "mimetype": "text/x-python",
   "name": "python",
   "nbconvert_exporter": "python",
   "pygments_lexer": "ipython3",
   "version": "3.13.3"
  }
 },
 "nbformat": 4,
 "nbformat_minor": 5
}
